{
 "cells": [
  {
   "cell_type": "markdown",
   "metadata": {},
   "source": [
    "# JupyterHub cost estimator\n",
    "\n",
    "This will help you estimate the cost of running a JupyterHub for your purposes. Costs vary along many dimensions, such as the cloud provider used, the location from which you're running machines, and the types of machines you require.\n",
    "\n",
    "Below are the standard prices for a Google Cloud instance running from Oregon. They should give you a general idea of how much your hub will cost.\n",
    "\n",
    "Here's a list of available machine types. For more information see the [Google Cloud pricing guide](https://cloud.google.com/compute/pricing)."
   ]
  },
  {
   "cell_type": "code",
   "execution_count": null,
   "metadata": {
    "scrolled": false
   },
   "outputs": [],
   "source": [
    "from z2jh import cost_display, disk, machines\n",
    "machines"
   ]
  },
  {
   "cell_type": "markdown",
   "metadata": {},
   "source": [
    "Next, run this cell to determine your cost. It will display a widget that lets you draw a pattern of typical usage (you can control the amount of time that is shown with the `n_days` parameter).\n",
    "\n",
    "Play around with different machine configurations to see how this would affect the cost of your deployment."
   ]
  },
  {
   "cell_type": "code",
   "execution_count": null,
   "metadata": {},
   "outputs": [],
   "source": [
    "fig = cost_display(n_days=7)"
   ]
  }
 ],
 "metadata": {
  "kernelspec": {
   "display_name": "Python 3",
   "language": "python",
   "name": "python3"
  },
  "language_info": {
   "codemirror_mode": {
    "name": "ipython",
    "version": 3
   },
   "file_extension": ".py",
   "mimetype": "text/x-python",
   "name": "python",
   "nbconvert_exporter": "python",
   "pygments_lexer": "ipython3",
   "version": "3.6.1"
  },
  "toc": {
   "toc_cell": false,
   "toc_number_sections": false,
   "toc_threshold": "2",
   "toc_window_display": false
  }
 },
 "nbformat": 4,
 "nbformat_minor": 2
}
